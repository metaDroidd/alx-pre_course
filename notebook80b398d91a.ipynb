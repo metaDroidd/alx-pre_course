{
 "cells": [
  {
   "cell_type": "markdown",
   "id": "8a6d6700",
   "metadata": {
    "_cell_guid": "2fee42ff-b34a-439f-b1a4-b4386fed0dee",
    "_uuid": "b1bf1527-02f8-4ed9-84ed-55ba195daf32",
    "collapsed": false,
    "jupyter": {
     "outputs_hidden": false
    },
    "papermill": {
     "duration": 0.007269,
     "end_time": "2025-05-13T19:10:26.598700",
     "exception": false,
     "start_time": "2025-05-13T19:10:26.591431",
     "status": "completed"
    },
    "tags": []
   },
   "source": [
    "**This notebook is an exercise in the [Python](https://www.kaggle.com/learn/python) course.  You can reference the tutorial at [this link](https://www.kaggle.com/colinmorris/hello-python).**\n",
    "\n",
    "---"
   ]
  },
  {
   "cell_type": "markdown",
   "id": "deb5bc04",
   "metadata": {
    "_cell_guid": "f887d8d9-1b5a-43c3-851e-9c69b9b9901f",
    "_uuid": "a70428ce-588a-48e6-a527-a66c573e308b",
    "collapsed": false,
    "jupyter": {
     "outputs_hidden": false
    },
    "papermill": {
     "duration": 0.005598,
     "end_time": "2025-05-13T19:10:26.611063",
     "exception": false,
     "start_time": "2025-05-13T19:10:26.605465",
     "status": "completed"
    },
    "tags": []
   },
   "source": [
    "Welcome to your first set of Python coding problems.  If this is your first time using Kaggle Notebooks, welcome! \n",
    "\n",
    "Notebooks are composed of blocks (called \"cells\") of text and code. Each of these is editable, though you'll mainly be editing the code cells to answer some questions.\n",
    "\n",
    "To get started, try running the code cell below (by pressing the ► button, or clicking on the cell and pressing ctrl+enter on your keyboard)."
   ]
  },
  {
   "cell_type": "code",
   "execution_count": 1,
   "id": "5e1d842e",
   "metadata": {
    "_cell_guid": "176a5d97-bb8a-4818-ac5d-20cb2a47937e",
    "_uuid": "e77f0e98-4685-44d7-8334-04fc6c0e1555",
    "collapsed": false,
    "execution": {
     "iopub.execute_input": "2025-05-13T19:10:26.625445Z",
     "iopub.status.busy": "2025-05-13T19:10:26.625095Z",
     "iopub.status.idle": "2025-05-13T19:10:26.634100Z",
     "shell.execute_reply": "2025-05-13T19:10:26.633160Z"
    },
    "jupyter": {
     "outputs_hidden": false
    },
    "papermill": {
     "duration": 0.018188,
     "end_time": "2025-05-13T19:10:26.635592",
     "exception": false,
     "start_time": "2025-05-13T19:10:26.617404",
     "status": "completed"
    },
    "tags": []
   },
   "outputs": [
    {
     "name": "stdout",
     "output_type": "stream",
     "text": [
      "You've successfully run some Python code\n",
      "Congratulations!\n",
      "You are learning Python now\n"
     ]
    }
   ],
   "source": [
    "print(\"You've successfully run some Python code\")\n",
    "print(\"Congratulations!\")\n",
    "print(\"You are learning Python now\")"
   ]
  },
  {
   "cell_type": "code",
   "execution_count": null,
   "id": "90a7ba2e",
   "metadata": {
    "_cell_guid": "8a0f7ed2-4f19-4acc-a863-3077f5a35d0d",
    "_uuid": "d86c8e4a-20fa-4fd1-b1dd-b7c8a27ea97c",
    "collapsed": false,
    "jupyter": {
     "outputs_hidden": false
    },
    "papermill": {
     "duration": 0.00542,
     "end_time": "2025-05-13T19:10:26.647172",
     "exception": false,
     "start_time": "2025-05-13T19:10:26.641752",
     "status": "completed"
    },
    "tags": []
   },
   "outputs": [],
   "source": []
  },
  {
   "cell_type": "markdown",
   "id": "3e71a957",
   "metadata": {
    "_cell_guid": "1e682c83-5966-4f8a-aef3-db528113f565",
    "_uuid": "8b4b6bbc-ebfb-4c8e-b119-8c734c712929",
    "collapsed": false,
    "jupyter": {
     "outputs_hidden": false
    },
    "papermill": {
     "duration": 0.005581,
     "end_time": "2025-05-13T19:10:26.658881",
     "exception": false,
     "start_time": "2025-05-13T19:10:26.653300",
     "status": "completed"
    },
    "tags": []
   },
   "source": [
    "Try adding another line of code in the cell above and re-running it. \n",
    "\n",
    "Now let's get a little fancier:  Add a new code cell by clicking on an existing code cell, hitting the escape key, and then hitting the `a` or `b` key.  The `a` key will add a cell above the current cell, and `b` adds a cell below.\n",
    "\n",
    "Great! Now you know how to use Notebooks.\n",
    "\n",
    "Each hands-on exercise starts by setting up our feedback and code checking mechanism. Run the code cell below to do that. Then you'll be ready to move on to question 0."
   ]
  },
  {
   "cell_type": "code",
   "execution_count": 2,
   "id": "1fef8cd0",
   "metadata": {
    "_cell_guid": "10e0ddbf-c9cb-494a-a966-da6c94ee60cf",
    "_kg_hide-input": true,
    "_kg_hide-output": true,
    "_uuid": "0e3c17b8-80b9-49c4-beb2-bab769669607",
    "collapsed": false,
    "execution": {
     "iopub.execute_input": "2025-05-13T19:10:26.671390Z",
     "iopub.status.busy": "2025-05-13T19:10:26.671066Z",
     "iopub.status.idle": "2025-05-13T19:10:28.792324Z",
     "shell.execute_reply": "2025-05-13T19:10:28.791054Z"
    },
    "jupyter": {
     "outputs_hidden": false
    },
    "papermill": {
     "duration": 2.129675,
     "end_time": "2025-05-13T19:10:28.794176",
     "exception": false,
     "start_time": "2025-05-13T19:10:26.664501",
     "status": "completed"
    },
    "tags": []
   },
   "outputs": [
    {
     "name": "stdout",
     "output_type": "stream",
     "text": [
      "Setup complete! You're ready to start question 0.\n"
     ]
    }
   ],
   "source": [
    "from learntools.core import binder; binder.bind(globals())\n",
    "from learntools.python.ex1 import *\n",
    "print(\"Setup complete! You're ready to start question 0.\")"
   ]
  },
  {
   "cell_type": "markdown",
   "id": "97276cfb",
   "metadata": {
    "_cell_guid": "6b21ba87-5c71-41ef-acad-5826b39545fc",
    "_uuid": "d79f5e41-500b-45a8-a9f7-d9702b9cc688",
    "collapsed": false,
    "jupyter": {
     "outputs_hidden": false
    },
    "papermill": {
     "duration": 0.005463,
     "end_time": "2025-05-13T19:10:28.806246",
     "exception": false,
     "start_time": "2025-05-13T19:10:28.800783",
     "status": "completed"
    },
    "tags": []
   },
   "source": [
    "# 0.\n",
    "\n",
    "*This is a silly question intended as an introduction to the format we use for hands-on exercises throughout all Kaggle courses.*\n",
    "\n",
    "**What is your favorite color? **\n",
    "\n",
    "To complete this question, create a variable called `color` in the cell below with an appropriate value. The function call `q0.check()` (which we've already provided in the cell below) will check your answer."
   ]
  },
  {
   "cell_type": "code",
   "execution_count": 3,
   "id": "006373cc",
   "metadata": {
    "_cell_guid": "8ec43524-6cfc-4134-a5e3-88edf2d05a1b",
    "_uuid": "92b95fd6-bd3c-4318-87c2-ba4fa56ec1a7",
    "collapsed": false,
    "execution": {
     "iopub.execute_input": "2025-05-13T19:10:28.819360Z",
     "iopub.status.busy": "2025-05-13T19:10:28.818932Z",
     "iopub.status.idle": "2025-05-13T19:10:28.827534Z",
     "shell.execute_reply": "2025-05-13T19:10:28.826636Z"
    },
    "jupyter": {
     "outputs_hidden": false
    },
    "papermill": {
     "duration": 0.017215,
     "end_time": "2025-05-13T19:10:28.829248",
     "exception": false,
     "start_time": "2025-05-13T19:10:28.812033",
     "status": "completed"
    },
    "tags": []
   },
   "outputs": [
    {
     "data": {
      "application/javascript": [
       "parent.postMessage({\"jupyterEvent\": \"custom.exercise_interaction\", \"data\": {\"outcomeType\": 2, \"failureMessage\": \"\", \"interactionType\": 1, \"questionType\": 2, \"questionId\": \"0_ExerciseFormatTutorial\", \"learnToolsVersion\": \"0.3.5\", \"valueTowardsCompletion\": 0.0, \"exceptionClass\": \"\", \"trace\": \"\"}}, \"*\")"
      ],
      "text/plain": [
       "<IPython.core.display.Javascript object>"
      ]
     },
     "metadata": {},
     "output_type": "display_data"
    },
    {
     "data": {
      "text/markdown": [
       "<span style=\"color:#cc3333\">Incorrect</span>"
      ],
      "text/plain": [
       "Incorrect"
      ]
     },
     "metadata": {},
     "output_type": "display_data"
    }
   ],
   "source": [
    "# create a variable called color with an appropriate value on the line below\n",
    "# (Remember, strings in Python must be enclosed in 'single' or \"double\" quotes)\n",
    "\n",
    "color = \"red\"\n",
    "\n",
    "# Check your answer\n",
    "q0.check()"
   ]
  },
  {
   "cell_type": "markdown",
   "id": "507246e5",
   "metadata": {
    "_cell_guid": "3c496ce6-9108-4c6c-969c-e31f71b4c20a",
    "_uuid": "33db64af-3ee4-47b3-9823-7462614eaca6",
    "collapsed": false,
    "jupyter": {
     "outputs_hidden": false
    },
    "papermill": {
     "duration": 0.006429,
     "end_time": "2025-05-13T19:10:28.841934",
     "exception": false,
     "start_time": "2025-05-13T19:10:28.835505",
     "status": "completed"
    },
    "tags": []
   },
   "source": [
    "Didn't get the right answer? How do you not even know your own favorite color?!\n",
    "\n",
    "Delete the `#` in the line below to make one of the lines run. You can choose between getting a hint or the full answer by choosing which line to remove the `#` from. \n",
    "\n",
    "Removing the `#` is called uncommenting, because it changes that line from a \"comment\" which Python doesn't run to code, which Python does run."
   ]
  },
  {
   "cell_type": "code",
   "execution_count": 4,
   "id": "1acaf012",
   "metadata": {
    "_cell_guid": "f7b94bc1-f6b4-4db7-8c8b-ba46ad32c735",
    "_uuid": "677ad217-bb5e-42c2-91c5-0d1dbe81ed91",
    "collapsed": false,
    "execution": {
     "iopub.execute_input": "2025-05-13T19:10:28.855525Z",
     "iopub.status.busy": "2025-05-13T19:10:28.855176Z",
     "iopub.status.idle": "2025-05-13T19:10:28.865486Z",
     "shell.execute_reply": "2025-05-13T19:10:28.864755Z"
    },
    "jupyter": {
     "outputs_hidden": false
    },
    "papermill": {
     "duration": 0.018759,
     "end_time": "2025-05-13T19:10:28.866903",
     "exception": false,
     "start_time": "2025-05-13T19:10:28.848144",
     "status": "completed"
    },
    "tags": []
   },
   "outputs": [
    {
     "data": {
      "application/javascript": [
       "parent.postMessage({\"jupyterEvent\": \"custom.exercise_interaction\", \"data\": {\"interactionType\": 2, \"questionType\": 2, \"questionId\": \"0_ExerciseFormatTutorial\", \"learnToolsVersion\": \"0.3.5\", \"valueTowardsCompletion\": 0.0, \"failureMessage\": \"\", \"exceptionClass\": \"\", \"trace\": \"\", \"outcomeType\": 4}}, \"*\")"
      ],
      "text/plain": [
       "<IPython.core.display.Javascript object>"
      ]
     },
     "metadata": {},
     "output_type": "display_data"
    },
    {
     "data": {
      "text/markdown": [
       "<span style=\"color:#3366cc\">Hint:</span> Your favorite color rhymes with *glue*."
      ],
      "text/plain": [
       "Hint: Your favorite color rhymes with *glue*."
      ]
     },
     "metadata": {},
     "output_type": "display_data"
    },
    {
     "data": {
      "application/javascript": [
       "parent.postMessage({\"jupyterEvent\": \"custom.exercise_interaction\", \"data\": {\"interactionType\": 3, \"questionType\": 2, \"questionId\": \"0_ExerciseFormatTutorial\", \"learnToolsVersion\": \"0.3.5\", \"valueTowardsCompletion\": 0.0, \"failureMessage\": \"\", \"exceptionClass\": \"\", \"trace\": \"\", \"outcomeType\": 4}}, \"*\")"
      ],
      "text/plain": [
       "<IPython.core.display.Javascript object>"
      ]
     },
     "metadata": {},
     "output_type": "display_data"
    },
    {
     "data": {
      "text/markdown": [
       "<span style=\"color:#33cc99\">Solution:</span> \n",
       "```python\n",
       "color = \"blue\"\n",
       "```"
      ],
      "text/plain": [
       "Solution: \n",
       "```python\n",
       "color = \"blue\"\n",
       "```"
      ]
     },
     "metadata": {},
     "output_type": "display_data"
    }
   ],
   "source": [
    "q0.hint()\n",
    "q0.solution()"
   ]
  },
  {
   "cell_type": "markdown",
   "id": "233d6887",
   "metadata": {
    "_cell_guid": "f86cf732-d30f-498d-b916-0a71e0b12d50",
    "_uuid": "6c3e0360-10d6-42fa-9380-0152be561b00",
    "collapsed": false,
    "jupyter": {
     "outputs_hidden": false
    },
    "papermill": {
     "duration": 0.005975,
     "end_time": "2025-05-13T19:10:28.879785",
     "exception": false,
     "start_time": "2025-05-13T19:10:28.873810",
     "status": "completed"
    },
    "tags": []
   },
   "source": [
    "The upcoming questions work the same way. The only thing that will change are the question numbers. For the next question, you'll call `q1.check()`, `q1.hint()`, `q1.solution()`, for question 2, you'll call `q2.check()`, and so on."
   ]
  },
  {
   "cell_type": "markdown",
   "id": "ac678778",
   "metadata": {
    "_cell_guid": "5aedb2fe-f28f-4b33-a02e-75200631780f",
    "_uuid": "bc61c9fa-2ede-4584-b840-f147b5c1f914",
    "collapsed": false,
    "jupyter": {
     "outputs_hidden": false
    },
    "papermill": {
     "duration": 0.005868,
     "end_time": "2025-05-13T19:10:28.891878",
     "exception": false,
     "start_time": "2025-05-13T19:10:28.886010",
     "status": "completed"
    },
    "tags": []
   },
   "source": [
    "<hr/>\n",
    "\n",
    "# 1.\n",
    "\n",
    "Complete the code below. In case it's helpful, here is the table of available arithmetic operations:\n",
    "\n",
    "\n",
    "\n",
    "| Operator     | Name           | Description                                            |\n",
    "|--------------|----------------|--------------------------------------------------------|\n",
    "| ``a + b``    | Addition       | Sum of ``a`` and ``b``                                 |\n",
    "| ``a - b``    | Subtraction    | Difference of ``a`` and ``b``                          |\n",
    "| ``a * b``    | Multiplication | Product of ``a`` and ``b``                             |\n",
    "| ``a / b``    | True division  | Quotient of ``a`` and ``b``                            |\n",
    "| ``a // b``   | Floor division | Quotient of ``a`` and ``b``, removing fractional parts |\n",
    "| ``a % b``    | Modulus        | Integer remainder after division of ``a`` by ``b``     |\n",
    "| ``a ** b``   | Exponentiation | ``a`` raised to the power of ``b``                     |\n",
    "| ``-a``       | Negation       | The negative of ``a``                                  |\n",
    "\n",
    "<span style=\"display:none\"></span>"
   ]
  },
  {
   "cell_type": "code",
   "execution_count": 5,
   "id": "f872a7eb",
   "metadata": {
    "_cell_guid": "d761dece-8ff7-4973-ba7f-426d4c6bc558",
    "_uuid": "329e4d93-04d8-4649-b837-b6606a413c69",
    "collapsed": false,
    "execution": {
     "iopub.execute_input": "2025-05-13T19:10:28.905742Z",
     "iopub.status.busy": "2025-05-13T19:10:28.905358Z",
     "iopub.status.idle": "2025-05-13T19:10:28.913184Z",
     "shell.execute_reply": "2025-05-13T19:10:28.912358Z"
    },
    "jupyter": {
     "outputs_hidden": false
    },
    "papermill": {
     "duration": 0.016561,
     "end_time": "2025-05-13T19:10:28.914784",
     "exception": false,
     "start_time": "2025-05-13T19:10:28.898223",
     "status": "completed"
    },
    "tags": []
   },
   "outputs": [
    {
     "data": {
      "application/javascript": [
       "parent.postMessage({\"jupyterEvent\": \"custom.exercise_interaction\", \"data\": {\"outcomeType\": 1, \"valueTowardsCompletion\": 0.25, \"interactionType\": 1, \"questionType\": 1, \"questionId\": \"1_CircleArea\", \"learnToolsVersion\": \"0.3.5\", \"failureMessage\": \"\", \"exceptionClass\": \"\", \"trace\": \"\"}}, \"*\")"
      ],
      "text/plain": [
       "<IPython.core.display.Javascript object>"
      ]
     },
     "metadata": {},
     "output_type": "display_data"
    },
    {
     "data": {
      "text/markdown": [
       "<span style=\"color:#33cc33\">Correct</span>"
      ],
      "text/plain": [
       "Correct"
      ]
     },
     "metadata": {},
     "output_type": "display_data"
    }
   ],
   "source": [
    "pi = 3.14159 # approximate\n",
    "diameter = 3\n",
    "\n",
    "# Create a variable called 'radius' equal to half the diameter\n",
    "radius = diameter / 2\n",
    "\n",
    "# Create a variable called 'area', using the formula for the area of a circle: pi times the radius squared\n",
    "area = pi * (radius) ** 2\n",
    "\n",
    "# Check your answer\n",
    "q1.check()"
   ]
  },
  {
   "cell_type": "code",
   "execution_count": 6,
   "id": "b2e04042",
   "metadata": {
    "_cell_guid": "c3ba652a-6d29-4ee8-bff8-732c6ea1ac19",
    "_uuid": "b52e7cac-3567-4639-a875-6afc1896b946",
    "collapsed": false,
    "execution": {
     "iopub.execute_input": "2025-05-13T19:10:28.929645Z",
     "iopub.status.busy": "2025-05-13T19:10:28.929345Z",
     "iopub.status.idle": "2025-05-13T19:10:28.939319Z",
     "shell.execute_reply": "2025-05-13T19:10:28.938512Z"
    },
    "jupyter": {
     "outputs_hidden": false
    },
    "papermill": {
     "duration": 0.018999,
     "end_time": "2025-05-13T19:10:28.940704",
     "exception": false,
     "start_time": "2025-05-13T19:10:28.921705",
     "status": "completed"
    },
    "tags": []
   },
   "outputs": [
    {
     "data": {
      "application/javascript": [
       "parent.postMessage({\"jupyterEvent\": \"custom.exercise_interaction\", \"data\": {\"interactionType\": 2, \"questionType\": 1, \"questionId\": \"1_CircleArea\", \"learnToolsVersion\": \"0.3.5\", \"valueTowardsCompletion\": 0.0, \"failureMessage\": \"\", \"exceptionClass\": \"\", \"trace\": \"\", \"outcomeType\": 4}}, \"*\")"
      ],
      "text/plain": [
       "<IPython.core.display.Javascript object>"
      ]
     },
     "metadata": {},
     "output_type": "display_data"
    },
    {
     "data": {
      "text/markdown": [
       "<span style=\"color:#3366cc\">Hint:</span> The syntax to raise a to the b'th power is `a ** b`"
      ],
      "text/plain": [
       "Hint: The syntax to raise a to the b'th power is `a ** b`"
      ]
     },
     "metadata": {},
     "output_type": "display_data"
    },
    {
     "data": {
      "application/javascript": [
       "parent.postMessage({\"jupyterEvent\": \"custom.exercise_interaction\", \"data\": {\"interactionType\": 3, \"questionType\": 1, \"questionId\": \"1_CircleArea\", \"learnToolsVersion\": \"0.3.5\", \"valueTowardsCompletion\": 0.0, \"failureMessage\": \"\", \"exceptionClass\": \"\", \"trace\": \"\", \"outcomeType\": 4}}, \"*\")"
      ],
      "text/plain": [
       "<IPython.core.display.Javascript object>"
      ]
     },
     "metadata": {},
     "output_type": "display_data"
    },
    {
     "data": {
      "text/markdown": [
       "<span style=\"color:#33cc99\">Solution:</span> \n",
       "```python\n",
       "radius = diameter / 2\n",
       "area = pi * radius ** 2\n",
       "```"
      ],
      "text/plain": [
       "Solution: \n",
       "```python\n",
       "radius = diameter / 2\n",
       "area = pi * radius ** 2\n",
       "```"
      ]
     },
     "metadata": {},
     "output_type": "display_data"
    }
   ],
   "source": [
    "# Uncomment and run the lines below if you need help.\n",
    "q1.hint()\n",
    "q1.solution()"
   ]
  },
  {
   "cell_type": "markdown",
   "id": "d337b916",
   "metadata": {
    "_cell_guid": "f9ff327a-e196-4bbe-8013-226546417b0d",
    "_uuid": "19998b78-0fc7-4fad-9ff8-2587accc3c99",
    "collapsed": false,
    "jupyter": {
     "outputs_hidden": false
    },
    "papermill": {
     "duration": 0.006705,
     "end_time": "2025-05-13T19:10:28.954399",
     "exception": false,
     "start_time": "2025-05-13T19:10:28.947694",
     "status": "completed"
    },
    "tags": []
   },
   "source": [
    "<hr/>\n",
    "\n",
    "# 2.\n",
    "\n",
    "Add code to the following cell to swap variables `a` and `b` (so that `a` refers to the object previously referred to by `b` and vice versa)."
   ]
  },
  {
   "cell_type": "code",
   "execution_count": 7,
   "id": "9869204d",
   "metadata": {
    "_cell_guid": "e0014596-5fe8-4687-85e9-9f7c6b939734",
    "_uuid": "c3571dc1-6109-47e9-97f9-848f9a6cca8f",
    "collapsed": false,
    "execution": {
     "iopub.execute_input": "2025-05-13T19:10:28.969605Z",
     "iopub.status.busy": "2025-05-13T19:10:28.969192Z",
     "iopub.status.idle": "2025-05-13T19:10:28.977168Z",
     "shell.execute_reply": "2025-05-13T19:10:28.976196Z"
    },
    "jupyter": {
     "outputs_hidden": false
    },
    "papermill": {
     "duration": 0.01733,
     "end_time": "2025-05-13T19:10:28.978631",
     "exception": false,
     "start_time": "2025-05-13T19:10:28.961301",
     "status": "completed"
    },
    "tags": []
   },
   "outputs": [
    {
     "data": {
      "application/javascript": [
       "parent.postMessage({\"jupyterEvent\": \"custom.exercise_interaction\", \"data\": {\"outcomeType\": 2, \"failureMessage\": \"`b` and `a` are the same! Both have value `[3, 2, 1]`\", \"interactionType\": 1, \"questionType\": 2, \"questionId\": \"2_VariableSwap\", \"learnToolsVersion\": \"0.3.5\", \"valueTowardsCompletion\": 0.0, \"exceptionClass\": \"\", \"trace\": \"\"}}, \"*\")"
      ],
      "text/plain": [
       "<IPython.core.display.Javascript object>"
      ]
     },
     "metadata": {},
     "output_type": "display_data"
    },
    {
     "data": {
      "text/markdown": [
       "<span style=\"color:#cc3333\">Incorrect:</span> `b` and `a` are the same! Both have value `[3, 2, 1]`"
      ],
      "text/plain": [
       "Incorrect: `b` and `a` are the same! Both have value `[3, 2, 1]`"
      ]
     },
     "metadata": {},
     "output_type": "display_data"
    }
   ],
   "source": [
    "########### Setup code - don't touch this part ######################\n",
    "# If you're curious, these are examples of lists. We'll talk about \n",
    "# them in depth a few lessons from now. For now, just know that they're\n",
    "# yet another type of Python object, like int or float.\n",
    "a = [1, 2, 3]\n",
    "b = [3, 2, 1]\n",
    "q2.store_original_ids()\n",
    "######################################################################\n",
    "\n",
    "# Your code goes here. Swap the values to which a and b refer.\n",
    "# If you get stuck, you can always uncomment one or both of the lines in\n",
    "# the next cell for a hint, or to peek at the solution.\n",
    "a = b\n",
    "b = a\n",
    "\n",
    "######################################################################\n",
    "\n",
    "# Check your answer\n",
    "q2.check()"
   ]
  },
  {
   "cell_type": "code",
   "execution_count": 8,
   "id": "6c1c69d2",
   "metadata": {
    "_cell_guid": "82430132-50ed-4db9-b702-8f08869bc1ba",
    "_uuid": "632556e7-384b-48b7-b6b2-b49e2430b66b",
    "collapsed": false,
    "execution": {
     "iopub.execute_input": "2025-05-13T19:10:28.994384Z",
     "iopub.status.busy": "2025-05-13T19:10:28.994059Z",
     "iopub.status.idle": "2025-05-13T19:10:29.001200Z",
     "shell.execute_reply": "2025-05-13T19:10:29.000450Z"
    },
    "jupyter": {
     "outputs_hidden": false
    },
    "papermill": {
     "duration": 0.016937,
     "end_time": "2025-05-13T19:10:29.002753",
     "exception": false,
     "start_time": "2025-05-13T19:10:28.985816",
     "status": "completed"
    },
    "tags": []
   },
   "outputs": [
    {
     "data": {
      "application/javascript": [
       "parent.postMessage({\"jupyterEvent\": \"custom.exercise_interaction\", \"data\": {\"interactionType\": 2, \"questionType\": 2, \"questionId\": \"2_VariableSwap\", \"learnToolsVersion\": \"0.3.5\", \"valueTowardsCompletion\": 0.0, \"failureMessage\": \"\", \"exceptionClass\": \"\", \"trace\": \"\", \"outcomeType\": 4}}, \"*\")"
      ],
      "text/plain": [
       "<IPython.core.display.Javascript object>"
      ]
     },
     "metadata": {},
     "output_type": "display_data"
    },
    {
     "data": {
      "text/markdown": [
       "<span style=\"color:#3366cc\">Hint:</span> Try using a third variable."
      ],
      "text/plain": [
       "Hint: Try using a third variable."
      ]
     },
     "metadata": {},
     "output_type": "display_data"
    }
   ],
   "source": [
    "q2.hint()"
   ]
  },
  {
   "cell_type": "code",
   "execution_count": 9,
   "id": "766ec3a7",
   "metadata": {
    "_cell_guid": "dadec431-f3fe-4d23-aa19-46829c54333e",
    "_uuid": "2f775b40-5635-470b-9d65-12176c8648fb",
    "collapsed": false,
    "execution": {
     "iopub.execute_input": "2025-05-13T19:10:29.018807Z",
     "iopub.status.busy": "2025-05-13T19:10:29.018401Z",
     "iopub.status.idle": "2025-05-13T19:10:29.025604Z",
     "shell.execute_reply": "2025-05-13T19:10:29.024754Z"
    },
    "jupyter": {
     "outputs_hidden": false
    },
    "papermill": {
     "duration": 0.01677,
     "end_time": "2025-05-13T19:10:29.027041",
     "exception": false,
     "start_time": "2025-05-13T19:10:29.010271",
     "status": "completed"
    },
    "tags": []
   },
   "outputs": [
    {
     "data": {
      "application/javascript": [
       "parent.postMessage({\"jupyterEvent\": \"custom.exercise_interaction\", \"data\": {\"interactionType\": 3, \"questionType\": 2, \"questionId\": \"2_VariableSwap\", \"learnToolsVersion\": \"0.3.5\", \"valueTowardsCompletion\": 0.0, \"failureMessage\": \"\", \"exceptionClass\": \"\", \"trace\": \"\", \"outcomeType\": 4}}, \"*\")"
      ],
      "text/plain": [
       "<IPython.core.display.Javascript object>"
      ]
     },
     "metadata": {},
     "output_type": "display_data"
    },
    {
     "data": {
      "text/markdown": [
       "<span style=\"color:#33cc99\">Solution:</span> The most straightforward solution is to use a third variable to temporarily store one of the old values. e.g.:\n",
       "\n",
       "    tmp = a\n",
       "    a = b\n",
       "    b = tmp\n",
       "\n",
       "If you've read lots of Python code, you might have seen the following trick to swap two variables in one line:\n",
       "\n",
       "    a, b = b, a\n",
       "\n",
       "We'll demystify this bit of Python magic later when we talk about *tuples*."
      ],
      "text/plain": [
       "Solution: The most straightforward solution is to use a third variable to temporarily store one of the old values. e.g.:\n",
       "\n",
       "    tmp = a\n",
       "    a = b\n",
       "    b = tmp\n",
       "\n",
       "If you've read lots of Python code, you might have seen the following trick to swap two variables in one line:\n",
       "\n",
       "    a, b = b, a\n",
       "\n",
       "We'll demystify this bit of Python magic later when we talk about *tuples*."
      ]
     },
     "metadata": {},
     "output_type": "display_data"
    }
   ],
   "source": [
    "q2.solution()"
   ]
  },
  {
   "cell_type": "markdown",
   "id": "5da54866",
   "metadata": {
    "_cell_guid": "f615e2dd-f8d7-4829-8210-43cec141a711",
    "_uuid": "bcd31b2c-6102-4a5d-9392-60f2da0b3b44",
    "collapsed": false,
    "jupyter": {
     "outputs_hidden": false
    },
    "papermill": {
     "duration": 0.007194,
     "end_time": "2025-05-13T19:10:29.041915",
     "exception": false,
     "start_time": "2025-05-13T19:10:29.034721",
     "status": "completed"
    },
    "tags": []
   },
   "source": [
    "<hr/>\n",
    "\n",
    "# 3a.\n",
    "\n",
    "Add parentheses to the following expression so that it evaluates to 1."
   ]
  },
  {
   "cell_type": "code",
   "execution_count": 10,
   "id": "11f8414c",
   "metadata": {
    "_cell_guid": "ecfa31b3-aa25-4069-a23c-2e1af416bd4e",
    "_uuid": "830eadd6-5c42-4d50-9f4b-78e068f31b11",
    "collapsed": false,
    "execution": {
     "iopub.execute_input": "2025-05-13T19:10:29.058142Z",
     "iopub.status.busy": "2025-05-13T19:10:29.057815Z",
     "iopub.status.idle": "2025-05-13T19:10:29.063578Z",
     "shell.execute_reply": "2025-05-13T19:10:29.062847Z"
    },
    "jupyter": {
     "outputs_hidden": false
    },
    "papermill": {
     "duration": 0.015837,
     "end_time": "2025-05-13T19:10:29.065113",
     "exception": false,
     "start_time": "2025-05-13T19:10:29.049276",
     "status": "completed"
    },
    "tags": []
   },
   "outputs": [
    {
     "data": {
      "text/plain": [
       "1"
      ]
     },
     "execution_count": 10,
     "metadata": {},
     "output_type": "execute_result"
    }
   ],
   "source": [
    "(5 - 3) // 2"
   ]
  },
  {
   "cell_type": "code",
   "execution_count": 11,
   "id": "190b7d68",
   "metadata": {
    "_cell_guid": "63208b0b-5d15-4639-88fd-a20ecd206889",
    "_uuid": "18a9761f-00da-42a8-ab75-5e1a8e5d6ff8",
    "collapsed": false,
    "execution": {
     "iopub.execute_input": "2025-05-13T19:10:29.082149Z",
     "iopub.status.busy": "2025-05-13T19:10:29.081833Z",
     "iopub.status.idle": "2025-05-13T19:10:29.090046Z",
     "shell.execute_reply": "2025-05-13T19:10:29.089006Z"
    },
    "jupyter": {
     "outputs_hidden": false
    },
    "papermill": {
     "duration": 0.01861,
     "end_time": "2025-05-13T19:10:29.091647",
     "exception": false,
     "start_time": "2025-05-13T19:10:29.073037",
     "status": "completed"
    },
    "tags": []
   },
   "outputs": [
    {
     "data": {
      "application/javascript": [
       "parent.postMessage({\"jupyterEvent\": \"custom.exercise_interaction\", \"data\": {\"interactionType\": 2, \"questionType\": 4, \"questionId\": \"3.1_ArithmeticParensEasy\", \"learnToolsVersion\": \"0.3.5\", \"valueTowardsCompletion\": 0.0, \"failureMessage\": \"\", \"exceptionClass\": \"\", \"trace\": \"\", \"outcomeType\": 4}}, \"*\")"
      ],
      "text/plain": [
       "<IPython.core.display.Javascript object>"
      ]
     },
     "metadata": {},
     "output_type": "display_data"
    },
    {
     "data": {
      "text/markdown": [
       "<span style=\"color:#3366cc\">Hint:</span> Following its default \"BEDMAS\"-like rules for order of operations, Python will first divide 3 by 2, then subtract the result from 5. You need to add parentheses to force it to perform the subtraction first."
      ],
      "text/plain": [
       "Hint: Following its default \"BEDMAS\"-like rules for order of operations, Python will first divide 3 by 2, then subtract the result from 5. You need to add parentheses to force it to perform the subtraction first."
      ]
     },
     "metadata": {},
     "output_type": "display_data"
    }
   ],
   "source": [
    "q3.a.hint()"
   ]
  },
  {
   "cell_type": "code",
   "execution_count": 12,
   "id": "4a95a4bf",
   "metadata": {
    "_cell_guid": "48c75c95-b89d-4720-a2a6-29c7740ad9b8",
    "_uuid": "5d490465-2516-4b3e-99a1-2af237ce374d",
    "collapsed": false,
    "execution": {
     "iopub.execute_input": "2025-05-13T19:10:29.108796Z",
     "iopub.status.busy": "2025-05-13T19:10:29.108460Z",
     "iopub.status.idle": "2025-05-13T19:10:29.116333Z",
     "shell.execute_reply": "2025-05-13T19:10:29.115018Z"
    },
    "jupyter": {
     "outputs_hidden": false
    },
    "papermill": {
     "duration": 0.018303,
     "end_time": "2025-05-13T19:10:29.117881",
     "exception": false,
     "start_time": "2025-05-13T19:10:29.099578",
     "status": "completed"
    },
    "tags": []
   },
   "outputs": [
    {
     "data": {
      "application/javascript": [
       "parent.postMessage({\"jupyterEvent\": \"custom.exercise_interaction\", \"data\": {\"interactionType\": 3, \"questionType\": 4, \"questionId\": \"3.1_ArithmeticParensEasy\", \"learnToolsVersion\": \"0.3.5\", \"valueTowardsCompletion\": 0.0, \"failureMessage\": \"\", \"exceptionClass\": \"\", \"trace\": \"\", \"outcomeType\": 4}}, \"*\")"
      ],
      "text/plain": [
       "<IPython.core.display.Javascript object>"
      ]
     },
     "metadata": {},
     "output_type": "display_data"
    },
    {
     "data": {
      "text/markdown": [
       "<span style=\"color:#33cc99\">Solution:</span> \n",
       "```python\n",
       "(5 - 3) // 2\n",
       "```"
      ],
      "text/plain": [
       "Solution: \n",
       "```python\n",
       "(5 - 3) // 2\n",
       "```"
      ]
     },
     "metadata": {},
     "output_type": "display_data"
    }
   ],
   "source": [
    "# Check your answer (Run this code cell to receive credit!)\n",
    "q3.a.solution()"
   ]
  },
  {
   "cell_type": "markdown",
   "id": "4661e52e",
   "metadata": {
    "_cell_guid": "567696b1-b6a4-456d-95e8-651ad98a0746",
    "_uuid": "145f7f32-aa95-427a-93e1-2bffc73b467c",
    "collapsed": false,
    "jupyter": {
     "outputs_hidden": false
    },
    "papermill": {
     "duration": 0.007482,
     "end_time": "2025-05-13T19:10:29.133508",
     "exception": false,
     "start_time": "2025-05-13T19:10:29.126026",
     "status": "completed"
    },
    "tags": []
   },
   "source": [
    "# 3b.  <span title=\"A bit spicy\" style=\"color: darkgreen \">🌶️</span>\n",
    "\n",
    "<small>Questions, like this one, marked a spicy pepper are a bit harder.</small>\n",
    "\n",
    "Add parentheses to the following expression so that it evaluates to 0."
   ]
  },
  {
   "cell_type": "code",
   "execution_count": 13,
   "id": "4763f38e",
   "metadata": {
    "_cell_guid": "9a12b30e-3b2e-4ab8-a878-8bef80d12491",
    "_uuid": "adc4afd6-3d9f-465f-80f3-088a8ad2b6d5",
    "collapsed": false,
    "execution": {
     "iopub.execute_input": "2025-05-13T19:10:29.150272Z",
     "iopub.status.busy": "2025-05-13T19:10:29.149993Z",
     "iopub.status.idle": "2025-05-13T19:10:29.155801Z",
     "shell.execute_reply": "2025-05-13T19:10:29.154756Z"
    },
    "jupyter": {
     "outputs_hidden": false
    },
    "papermill": {
     "duration": 0.016125,
     "end_time": "2025-05-13T19:10:29.157312",
     "exception": false,
     "start_time": "2025-05-13T19:10:29.141187",
     "status": "completed"
    },
    "tags": []
   },
   "outputs": [
    {
     "data": {
      "text/plain": [
       "0"
      ]
     },
     "execution_count": 13,
     "metadata": {},
     "output_type": "execute_result"
    }
   ],
   "source": [
    "8 - (3 * 2) - (1 + 1)"
   ]
  },
  {
   "cell_type": "code",
   "execution_count": 14,
   "id": "277967d3",
   "metadata": {
    "_cell_guid": "2ff73a81-83c9-45d7-9952-2d4a4b13dd53",
    "_uuid": "7830bcaf-70f6-4081-ad33-b21b9477a077",
    "collapsed": false,
    "execution": {
     "iopub.execute_input": "2025-05-13T19:10:29.175266Z",
     "iopub.status.busy": "2025-05-13T19:10:29.174563Z",
     "iopub.status.idle": "2025-05-13T19:10:29.182107Z",
     "shell.execute_reply": "2025-05-13T19:10:29.181230Z"
    },
    "jupyter": {
     "outputs_hidden": false
    },
    "papermill": {
     "duration": 0.018124,
     "end_time": "2025-05-13T19:10:29.183517",
     "exception": false,
     "start_time": "2025-05-13T19:10:29.165393",
     "status": "completed"
    },
    "tags": []
   },
   "outputs": [
    {
     "data": {
      "application/javascript": [
       "parent.postMessage({\"jupyterEvent\": \"custom.exercise_interaction\", \"data\": {\"interactionType\": 2, \"questionType\": 4, \"questionId\": \"3.2_ArithmeticParensHard\", \"learnToolsVersion\": \"0.3.5\", \"valueTowardsCompletion\": 0.0, \"failureMessage\": \"\", \"exceptionClass\": \"\", \"trace\": \"\", \"outcomeType\": 4}}, \"*\")"
      ],
      "text/plain": [
       "<IPython.core.display.Javascript object>"
      ]
     },
     "metadata": {},
     "output_type": "display_data"
    },
    {
     "data": {
      "text/markdown": [
       "<span style=\"color:#3366cc\">Hint:</span> You may need to use several pairs of parentheses."
      ],
      "text/plain": [
       "Hint: You may need to use several pairs of parentheses."
      ]
     },
     "metadata": {},
     "output_type": "display_data"
    }
   ],
   "source": [
    "q3.b.hint()"
   ]
  },
  {
   "cell_type": "code",
   "execution_count": 15,
   "id": "cde0c6c4",
   "metadata": {
    "_cell_guid": "373027f1-6066-4967-b811-8b2c73ac9513",
    "_uuid": "7720e269-7dbd-4681-a9f5-80df57927c84",
    "collapsed": false,
    "execution": {
     "iopub.execute_input": "2025-05-13T19:10:29.201795Z",
     "iopub.status.busy": "2025-05-13T19:10:29.201000Z",
     "iopub.status.idle": "2025-05-13T19:10:29.208389Z",
     "shell.execute_reply": "2025-05-13T19:10:29.207432Z"
    },
    "jupyter": {
     "outputs_hidden": false
    },
    "papermill": {
     "duration": 0.017804,
     "end_time": "2025-05-13T19:10:29.209872",
     "exception": false,
     "start_time": "2025-05-13T19:10:29.192068",
     "status": "completed"
    },
    "tags": []
   },
   "outputs": [
    {
     "data": {
      "application/javascript": [
       "parent.postMessage({\"jupyterEvent\": \"custom.exercise_interaction\", \"data\": {\"interactionType\": 3, \"questionType\": 4, \"questionId\": \"3.2_ArithmeticParensHard\", \"learnToolsVersion\": \"0.3.5\", \"valueTowardsCompletion\": 0.0, \"failureMessage\": \"\", \"exceptionClass\": \"\", \"trace\": \"\", \"outcomeType\": 4}}, \"*\")"
      ],
      "text/plain": [
       "<IPython.core.display.Javascript object>"
      ]
     },
     "metadata": {},
     "output_type": "display_data"
    },
    {
     "data": {
      "text/markdown": [
       "<span style=\"color:#33cc99\">Solution:</span> `(8 - 3) * (2 - (1 + 1))` is one solution. There may be others."
      ],
      "text/plain": [
       "Solution: `(8 - 3) * (2 - (1 + 1))` is one solution. There may be others."
      ]
     },
     "metadata": {},
     "output_type": "display_data"
    }
   ],
   "source": [
    "# Check your answer (Run this code cell to receive credit!)\n",
    "q3.b.solution()"
   ]
  },
  {
   "cell_type": "markdown",
   "id": "1592c1ce",
   "metadata": {
    "_cell_guid": "b9bf871a-3f83-41dd-ba50-06d47c59d563",
    "_uuid": "b3d701d1-1fe5-414e-973e-ab5243ac8b3f",
    "collapsed": false,
    "jupyter": {
     "outputs_hidden": false
    },
    "papermill": {
     "duration": 0.007857,
     "end_time": "2025-05-13T19:10:29.226110",
     "exception": false,
     "start_time": "2025-05-13T19:10:29.218253",
     "status": "completed"
    },
    "tags": []
   },
   "source": [
    "<hr/>\n",
    "\n",
    "# 4. \n",
    "Alice, Bob and Carol have agreed to pool their Halloween candy and split it evenly among themselves.\n",
    "For the sake of their friendship, any candies left over will be smashed. For example, if they collectively\n",
    "bring home 91 candies, they'll take 30 each and smash 1.\n",
    "\n",
    "Write an arithmetic expression below to calculate how many candies they must smash for a given haul."
   ]
  },
  {
   "cell_type": "code",
   "execution_count": 16,
   "id": "4376b29f",
   "metadata": {
    "_cell_guid": "838c93c8-b7a4-4246-a12d-1bb766da7785",
    "_uuid": "f33eb7bc-ed7a-45c1-aca4-e5832063a278",
    "collapsed": false,
    "execution": {
     "iopub.execute_input": "2025-05-13T19:10:29.244021Z",
     "iopub.status.busy": "2025-05-13T19:10:29.243195Z",
     "iopub.status.idle": "2025-05-13T19:10:29.251073Z",
     "shell.execute_reply": "2025-05-13T19:10:29.250224Z"
    },
    "jupyter": {
     "outputs_hidden": false
    },
    "papermill": {
     "duration": 0.018333,
     "end_time": "2025-05-13T19:10:29.252409",
     "exception": false,
     "start_time": "2025-05-13T19:10:29.234076",
     "status": "completed"
    },
    "tags": []
   },
   "outputs": [
    {
     "data": {
      "application/javascript": [
       "parent.postMessage({\"jupyterEvent\": \"custom.exercise_interaction\", \"data\": {\"outcomeType\": 1, \"valueTowardsCompletion\": 0.25, \"interactionType\": 1, \"questionType\": 1, \"questionId\": \"4_CandySplitting\", \"learnToolsVersion\": \"0.3.5\", \"failureMessage\": \"\", \"exceptionClass\": \"\", \"trace\": \"\"}}, \"*\")"
      ],
      "text/plain": [
       "<IPython.core.display.Javascript object>"
      ]
     },
     "metadata": {},
     "output_type": "display_data"
    },
    {
     "data": {
      "text/markdown": [
       "<span style=\"color:#33cc33\">Correct</span>"
      ],
      "text/plain": [
       "Correct"
      ]
     },
     "metadata": {},
     "output_type": "display_data"
    }
   ],
   "source": [
    "# Variables representing the number of candies collected by alice, bob, and carol\n",
    "alice_candies = 121\n",
    "bob_candies = 77\n",
    "carol_candies = 109\n",
    "\n",
    "# Your code goes here! Replace the right-hand side of this assignment with an expression\n",
    "# involving alice_candies, bob_candies, and carol_candies\n",
    "to_smash = (alice_candies + bob_candies + carol_candies) % 3\n",
    "\n",
    "# Check your answer\n",
    "q4.check()"
   ]
  },
  {
   "cell_type": "code",
   "execution_count": 17,
   "id": "b29e231c",
   "metadata": {
    "_cell_guid": "9976003e-4540-4861-958d-f7d26c94b0f0",
    "_uuid": "af1eaf7a-f210-41a5-8f74-6c7dff68ce28",
    "collapsed": false,
    "execution": {
     "iopub.execute_input": "2025-05-13T19:10:29.340772Z",
     "iopub.status.busy": "2025-05-13T19:10:29.340404Z",
     "iopub.status.idle": "2025-05-13T19:10:29.349916Z",
     "shell.execute_reply": "2025-05-13T19:10:29.349037Z"
    },
    "jupyter": {
     "outputs_hidden": false
    },
    "papermill": {
     "duration": 0.020439,
     "end_time": "2025-05-13T19:10:29.351319",
     "exception": false,
     "start_time": "2025-05-13T19:10:29.330880",
     "status": "completed"
    },
    "tags": []
   },
   "outputs": [
    {
     "data": {
      "application/javascript": [
       "parent.postMessage({\"jupyterEvent\": \"custom.exercise_interaction\", \"data\": {\"interactionType\": 2, \"questionType\": 1, \"questionId\": \"4_CandySplitting\", \"learnToolsVersion\": \"0.3.5\", \"valueTowardsCompletion\": 0.0, \"failureMessage\": \"\", \"exceptionClass\": \"\", \"trace\": \"\", \"outcomeType\": 4}}, \"*\")"
      ],
      "text/plain": [
       "<IPython.core.display.Javascript object>"
      ]
     },
     "metadata": {},
     "output_type": "display_data"
    },
    {
     "data": {
      "text/markdown": [
       "<span style=\"color:#3366cc\">Hint 1:</span> You'll probably want to use the modulo operator, `%`.\n",
       "(For another hint, call `.hint(2)`)"
      ],
      "text/plain": [
       "Hint 1: You'll probably want to use the modulo operator, `%`.\n",
       "(For another hint, call `.hint(2)`)"
      ]
     },
     "metadata": {},
     "output_type": "display_data"
    },
    {
     "data": {
      "application/javascript": [
       "parent.postMessage({\"jupyterEvent\": \"custom.exercise_interaction\", \"data\": {\"interactionType\": 3, \"questionType\": 1, \"questionId\": \"4_CandySplitting\", \"learnToolsVersion\": \"0.3.5\", \"valueTowardsCompletion\": 0.0, \"failureMessage\": \"\", \"exceptionClass\": \"\", \"trace\": \"\", \"outcomeType\": 4}}, \"*\")"
      ],
      "text/plain": [
       "<IPython.core.display.Javascript object>"
      ]
     },
     "metadata": {},
     "output_type": "display_data"
    },
    {
     "data": {
      "text/markdown": [
       "<span style=\"color:#33cc99\">Solution:</span> \n",
       "```python\n",
       "(alice_candies + bob_candies + carol_candies) % 3\n",
       "```"
      ],
      "text/plain": [
       "Solution: \n",
       "```python\n",
       "(alice_candies + bob_candies + carol_candies) % 3\n",
       "```"
      ]
     },
     "metadata": {},
     "output_type": "display_data"
    }
   ],
   "source": [
    "q4.hint()\n",
    "q4.solution()"
   ]
  },
  {
   "cell_type": "markdown",
   "id": "71c60000",
   "metadata": {
    "_cell_guid": "fef5f960-bec9-4094-889b-e7d3ac9d7719",
    "_uuid": "773acefd-f240-46d0-9240-4f0548b34ba6",
    "collapsed": false,
    "jupyter": {
     "outputs_hidden": false
    },
    "papermill": {
     "duration": 0.008576,
     "end_time": "2025-05-13T19:10:29.369828",
     "exception": false,
     "start_time": "2025-05-13T19:10:29.361252",
     "status": "completed"
    },
    "tags": []
   },
   "source": [
    "# Keep Going\n",
    "\n",
    "Next up, you'll **[learn to write new functions and understand functions others write](https://www.kaggle.com/colinmorris/functions-and-getting-help)**. This will make you at least 10 times more productive as a Python programmer."
   ]
  },
  {
   "cell_type": "markdown",
   "id": "47a392d7",
   "metadata": {
    "_cell_guid": "379da8e3-b5d5-4818-ba15-841bfdc6de18",
    "_uuid": "e67ba4d8-e098-4161-8ce3-5a78da2d42cd",
    "collapsed": false,
    "jupyter": {
     "outputs_hidden": false
    },
    "papermill": {
     "duration": 0.008638,
     "end_time": "2025-05-13T19:10:29.387510",
     "exception": false,
     "start_time": "2025-05-13T19:10:29.378872",
     "status": "completed"
    },
    "tags": []
   },
   "source": [
    "---\n",
    "\n",
    "\n",
    "\n",
    "\n",
    "*Have questions or comments? Visit the [course discussion forum](https://www.kaggle.com/learn/python/discussion) to chat with other learners.*"
   ]
  }
 ],
 "metadata": {
  "kaggle": {
   "accelerator": "none",
   "dataSources": [],
   "isGpuEnabled": false,
   "isInternetEnabled": false,
   "language": "python",
   "sourceType": "notebook"
  },
  "kernelspec": {
   "display_name": "Python 3",
   "language": "python",
   "name": "python3"
  },
  "language_info": {
   "codemirror_mode": {
    "name": "ipython",
    "version": 3
   },
   "file_extension": ".py",
   "mimetype": "text/x-python",
   "name": "python",
   "nbconvert_exporter": "python",
   "pygments_lexer": "ipython3",
   "version": "3.11.11"
  },
  "learntools_metadata": {
   "lesson_index": 0,
   "type": "exercise"
  },
  "papermill": {
   "default_parameters": {},
   "duration": 8.655764,
   "end_time": "2025-05-13T19:10:30.017937",
   "environment_variables": {},
   "exception": null,
   "input_path": "__notebook__.ipynb",
   "output_path": "__notebook__.ipynb",
   "parameters": {},
   "start_time": "2025-05-13T19:10:21.362173",
   "version": "2.6.0"
  }
 },
 "nbformat": 4,
 "nbformat_minor": 5
}
